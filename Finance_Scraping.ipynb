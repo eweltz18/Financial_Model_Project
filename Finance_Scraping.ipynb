{
 "cells": [
  {
   "cell_type": "markdown",
   "metadata": {
    "slideshow": {
     "slide_type": "slide"
    }
   },
   "source": [
    "# Financial Model Presentation #\n",
    "\n",
    "## By Eric Weltz ##"
   ]
  },
  {
   "cell_type": "code",
   "execution_count": 1,
   "metadata": {
    "collapsed": false,
    "slideshow": {
     "slide_type": "slide"
    }
   },
   "outputs": [
    {
     "name": "stderr",
     "output_type": "stream",
     "text": [
      "Using TensorFlow backend.\n",
      "/home/ewelt/anaconda3/lib/python3.6/site-packages/matplotlib/cbook.py:136: MatplotlibDeprecationWarning: The finance module has been deprecated in mpl 2.0 and will be removed in mpl 2.2. Please use the module mpl_finance instead.\n",
      "  warnings.warn(message, mplDeprecation, stacklevel=1)\n"
     ]
    }
   ],
   "source": [
    "import argparse\n",
    "import base64\n",
    "import datetime\n",
    "import fix_yahoo_finance\n",
    "import json\n",
    "import matplotlib.pyplot as plt\n",
    "import os\n",
    "import numpy as np\n",
    "import pandas as pd\n",
    "import spacy\n",
    "import requests\n",
    "import re\n",
    "import tensorflow as tf\n",
    "import util\n",
    "from bs4 import BeautifulSoup\n",
    "from collections import OrderedDict, defaultdict\n",
    "from keras.preprocessing import sequence\n",
    "from keras.models import Sequential\n",
    "from keras.layers import Dense, Dropout, Embedding, LSTM, Bidirectional\n",
    "from keras.utils.np_utils import to_categorical\n",
    "from matplotlib.dates import DateFormatter, WeekdayLocator,\\\n",
    "    DayLocator, MONDAY\n",
    "from matplotlib.finance import candlestick_ohlc\n",
    "from pandas_datareader import data as pdr\n",
    "\n",
    "\n"
   ]
  },
  {
   "cell_type": "code",
   "execution_count": 2,
   "metadata": {
    "collapsed": true,
    "slideshow": {
     "slide_type": "slide"
    }
   },
   "outputs": [],
   "source": [
    "\"\"\"Code adapted from https://www.scrapehero.com/scrape-yahoo-finance-stock-market-data/\"\"\"\n",
    "\n",
    "def parse_current_data(ticker):\n",
    "    url = \"http://finance.yahoo.com/quote/%s?p=%s\"%(ticker,ticker)\n",
    "    raw_data = requests.get(url)\n",
    "    print(\"Parsing %s\"%(url))\n",
    "    soup = BeautifulSoup(raw_data.text, \"lxml\")\n",
    "    summary_table = soup.find_all(class_=re.compile('Bxz\\(bb\\) Bdbw\\(1px\\) Bdbs\\(s\\) Bdc\\(\\$lightGray\\) H\\(36px\\) '))\n",
    "    summary_data = OrderedDict()\n",
    "    other_details_json_link = \"https://query2.finance.yahoo.com/v10/finance/quoteSummary/{0}?formatted=true&lang=en-US&region=US&modules=summaryProfile%2CfinancialData%2CrecommendationTrend%2CupgradeDowngradeHistory%2Cearnings%2CdefaultKeyStatistics%2CcalendarEvents&corsDomain=finance.yahoo.com\".format(ticker)\n",
    "    json_response = requests.get(other_details_json_link)\n",
    "    for table_data in summary_table:\n",
    "        raw_table_key = table_data.find(class_=re.compile('black'))\n",
    "        raw_table_value = table_data.find_all(class_=re.compile('end'))\n",
    "        table_key = ''.join(raw_table_key.text).strip()\n",
    "        table_value = ''.join(value.text for value in raw_table_value).strip()\n",
    "        summary_data.update({table_key:table_value})\n",
    "    summary_data.update({'ticker':ticker,'url':url})\n",
    "    return summary_data\n"
   ]
  },
  {
   "cell_type": "code",
   "execution_count": 3,
   "metadata": {
    "collapsed": false,
    "slideshow": {
     "slide_type": "slide"
    }
   },
   "outputs": [
    {
     "name": "stdout",
     "output_type": "stream",
     "text": [
      "Parsing http://finance.yahoo.com/quote/AAPL?p=AAPL\n",
      "OrderedDict([('Previous Close', '145.87'), ('Open', '145.77'), ('Bid', '145.63 x 500'), ('Ask', '145.75 x 400'), (\"Day's Range\", '145.12 - 146.70'), ('52 Week Range', '91.50 - 156.65'), ('Volume', '19,106,294'), ('Avg. Volume', '26,957,307'), ('Market Cap', '759.29B'), ('Beta', '1.43'), ('PE Ratio (TTM)', '17.08'), ('EPS (TTM)', '8.52'), ('Earnings Date', 'Jul 24, 2017 - Jul 28, 2017'), ('Dividend & Yield', '2.52 (1.74%)'), ('Ex-Dividend Date', '2017-05-11'), ('1y Target Est', '157.58'), ('ticker', 'AAPL'), ('url', 'http://finance.yahoo.com/quote/AAPL?p=AAPL')])\n"
     ]
    }
   ],
   "source": [
    "print(parse_current_data('AAPL'))"
   ]
  },
  {
   "cell_type": "code",
   "execution_count": 4,
   "metadata": {
    "collapsed": true,
    "slideshow": {
     "slide_type": "slide"
    }
   },
   "outputs": [],
   "source": [
    "def parse_historical_data(ticker):\n",
    "    # We will look at stock prices over the past year, starting at January 1, 2016\n",
    "    start = datetime.date(2006, 10, 21)\n",
    "    end = datetime.date(2013, 11, 27)\n",
    " \n",
    "    # Let's get Apple stock data; Apple's ticker symbol is AAPL\n",
    "    # First argument is the series we want, second is the source (\"yahoo\" for Yahoo! Finance), third is the start date, fourth is the end date\n",
    "    stock = pdr.get_data_yahoo(ticker, start, end)\n",
    "    return stock\n",
    " \n"
   ]
  },
  {
   "cell_type": "code",
   "execution_count": 5,
   "metadata": {
    "collapsed": true,
    "slideshow": {
     "slide_type": "slide"
    }
   },
   "outputs": [],
   "source": [
    "def make_plot(table):\n",
    "    %matplotlib inline\n",
    "    %pylab inline\n",
    "    pylab.rcParams['figure.figsize'] = (15, 9)   \n",
    " \n",
    "    table[\"Adj Close\"].plot(grid = True) "
   ]
  },
  {
   "cell_type": "code",
   "execution_count": 6,
   "metadata": {
    "collapsed": true,
    "slideshow": {
     "slide_type": "slide"
    }
   },
   "outputs": [],
   "source": [
    "def pandas_candlestick_ohlc(dat, stick = \"day\", otherseries = None, days=1):\n",
    "    \"\"\"\n",
    "    Code from https://ntguardian.wordpress.com/2016/09/19/introduction-stock-market-data-python-1/\n",
    "    :param dat: pandas DataFrame object with datetime64 index, and float columns \"Open\", \"High\", \"Low\", and \"Close\", likely created via DataReader from \"yahoo\"\n",
    "    :param stick: A string or number indicating the period of time covered by a single candlestick. Valid string inputs include \"day\", \"week\", \"month\", and \"year\", (\"day\" default), and any numeric input indicates the number of trading days included in a period\n",
    "    :param otherseries: An iterable that will be coerced into a list, containing the columns of dat that hold other series to be plotted as lines\n",
    " \n",
    "    This will show a Japanese candlestick plot for stock data stored in dat, also plotting other series if passed.\n",
    "    \"\"\"\n",
    "    mondays = WeekdayLocator(MONDAY)        # major ticks on the mondays\n",
    "    alldays = DayLocator()              # minor ticks on the days\n",
    "    dayFormatter = DateFormatter('%d')      # e.g., 12\n",
    " \n",
    "    # Create a new DataFrame which includes OHLC data for each period specified by stick input\n",
    "    transdat = dat.loc[:,[\"Open\", \"High\", \"Low\", \"Close\"]]\n",
    "    if (type(stick) == str):\n",
    "        if stick == \"day\":\n",
    "            plotdat = transdat\n",
    "            stick = 1 # Used for plotting\n",
    "        elif stick in [\"week\", \"month\", \"year\"]:\n",
    "            if stick == \"week\":\n",
    "                transdat[\"week\"] = pd.to_datetime(transdat.index).map(lambda x: x.isocalendar()[1]) # Identify weeks\n",
    "            elif stick == \"month\":\n",
    "                transdat[\"month\"] = pd.to_datetime(transdat.index).map(lambda x: x.month) # Identify months\n",
    "            transdat[\"year\"] = pd.to_datetime(transdat.index).map(lambda x: x.isocalendar()[0]) # Identify years\n",
    "            grouped = transdat.groupby(list(set([\"year\",stick]))) # Group by year and other appropriate variable\n",
    "            plotdat = pd.DataFrame({\"Open\": [], \"High\": [], \"Low\": [], \"Close\": []}) # Create empty data frame containing what will be plotted\n",
    "            for name, group in grouped:\n",
    "                plotdat = plotdat.append(pd.DataFrame({\"Open\": group.iloc[0,0],\n",
    "                                            \"High\": max(group.High),\n",
    "                                            \"Low\": min(group.Low),\n",
    "                                            \"Close\": group.iloc[-1,3]},\n",
    "                                           index = [group.index[0]]))\n",
    "            if stick == \"week\": stick = 5\n",
    "            elif stick == \"month\": stick = 30\n",
    "            elif stick == \"year\": stick = 365\n",
    " \n",
    "    elif (type(stick) == int and stick >= 1):\n",
    "        transdat[\"stick\"] = [np.floor(i / stick) for i in range(len(transdat.index))]\n",
    "        grouped = transdat.groupby(\"stick\")\n",
    "        plotdat = pd.DataFrame({\"Open\": [], \"High\": [], \"Low\": [], \"Close\": []}) # Create empty data frame containing what will be plotted\n",
    "        for name, group in grouped:\n",
    "            plotdat = plotdat.append(pd.DataFrame({\"Open\": group.iloc[0,0],\n",
    "                                        \"High\": max(group.High),\n",
    "                                        \"Low\": min(group.Low),\n",
    "                                        \"Close\": group.iloc[-1,3]},\n",
    "                                       index = [group.index[0]]))\n",
    " \n",
    "    else:\n",
    "        raise ValueError('Valid inputs to argument \"stick\" include the strings \"day\", \"week\", \"month\", \"year\", or a positive integer')\n",
    " \n",
    " \n",
    "    # Set plot parameters, including the axis object ax used for plotting\n",
    "    fig, ax = plt.subplots()\n",
    "    fig.subplots_adjust(bottom=0.2)\n",
    "    if plotdat.index[-1] - plotdat.index[0] < pd.Timedelta('730 days'):\n",
    "        weekFormatter = DateFormatter('%b %d')  # e.g., Jan 12\n",
    "        ax.xaxis.set_major_locator(mondays)\n",
    "        ax.xaxis.set_minor_locator(alldays)\n",
    "    else:\n",
    "        weekFormatter = DateFormatter('%b %d, %Y')\n",
    "    ax.xaxis.set_major_formatter(weekFormatter)\n",
    " \n",
    "    ax.grid(True)\n",
    " \n",
    "    # Create the candelstick chart\n",
    "    zipped_list = list(zip(list(date2num(plotdat.index.tolist())), plotdat[\"Open\"].tolist(), plotdat[\"High\"].tolist(),\n",
    "                      plotdat[\"Low\"].tolist(), plotdat[\"Close\"].tolist()))\n",
    "    if days == 1:\n",
    "        days=len(zipped_list)\n",
    "    candlestick_ohlc(ax, zipped_list[len(zipped_list)-days:],\n",
    "                      colorup = \"black\", colordown = \"red\", width = stick * .4)\n",
    " \n",
    "    # Plot other series (such as moving averages) as lines\n",
    "    if otherseries != None:\n",
    "        if type(otherseries) != list:\n",
    "            otherseries = [otherseries]\n",
    "        dat.loc[:,otherseries].plot(ax = ax, lw = 1.3, grid = True)\n",
    " \n",
    "    ax.xaxis_date()\n",
    "    ax.autoscale_view()\n",
    "    plt.setp(plt.gca().get_xticklabels(), rotation=45, horizontalalignment='right')\n",
    " \n",
    "    plt.show()"
   ]
  },
  {
   "cell_type": "code",
   "execution_count": 7,
   "metadata": {
    "collapsed": true,
    "slideshow": {
     "slide_type": "slide"
    }
   },
   "outputs": [],
   "source": [
    "def collect_data(ticker):\n",
    "    table = parse_historical_data(ticker)\n",
    "    make_plot(table)\n",
    "    pandas_candlestick_ohlc(table, days=365)\n",
    "    return table"
   ]
  },
  {
   "cell_type": "code",
   "execution_count": 8,
   "metadata": {
    "collapsed": false,
    "slideshow": {
     "slide_type": "slide"
    }
   },
   "outputs": [
    {
     "name": "stdout",
     "output_type": "stream",
     "text": [
      "[*********************100%***********************]  1 of 1 downloadedPopulating the interactive namespace from numpy and matplotlib\n"
     ]
    },
    {
     "data": {
      "image/png": "[encoded data removed]",
      "text/plain": [
       "<matplotlib.figure.Figure at 0x7f5ac32c3a20>"
      ]
     },
     "metadata": {},
     "output_type": "display_data"
    },
    {
     "data": {
      "image/png": "[encoded data removed]",
      "text/plain": [
       "<matplotlib.figure.Figure at 0x7f5ac2be8828>"
      ]
     },
     "metadata": {},
     "output_type": "display_data"
    },
    {
     "data": {
      "text/html": [
       "<div>\n",
       "<style>\n",
       "    .dataframe thead tr:only-child th {\n",
       "        text-align: right;\n",
       "    }\n",
       "\n",
       "    .dataframe thead th {\n",
       "        text-align: left;\n",
       "    }\n",
       "\n",
       "    .dataframe tbody tr th {\n",
       "        vertical-align: top;\n",
       "    }\n",
       "</style>\n",
       "<table border=\"1\" class=\"dataframe\">\n",
       "  <thead>\n",
       "    <tr style=\"text-align: right;\">\n",
       "      <th></th>\n",
       "      <th>Open</th>\n",
       "      <th>High</th>\n",
       "      <th>Low</th>\n",
       "      <th>Close</th>\n",
       "      <th>Adj Close</th>\n",
       "      <th>Volume</th>\n",
       "    </tr>\n",
       "    <tr>\n",
       "      <th>Date</th>\n",
       "      <th></th>\n",
       "      <th></th>\n",
       "      <th></th>\n",
       "      <th></th>\n",
       "      <th></th>\n",
       "      <th></th>\n",
       "    </tr>\n",
       "  </thead>\n",
       "  <tbody>\n",
       "    <tr>\n",
       "      <th>2006-10-23</th>\n",
       "      <td>11.427143</td>\n",
       "      <td>11.700000</td>\n",
       "      <td>11.392858</td>\n",
       "      <td>81.459999</td>\n",
       "      <td>10.510538</td>\n",
       "      <td>208126800</td>\n",
       "    </tr>\n",
       "    <tr>\n",
       "      <th>2006-10-24</th>\n",
       "      <td>11.601429</td>\n",
       "      <td>11.668571</td>\n",
       "      <td>11.457143</td>\n",
       "      <td>81.050003</td>\n",
       "      <td>10.457637</td>\n",
       "      <td>115803100</td>\n",
       "    </tr>\n",
       "    <tr>\n",
       "      <th>2006-10-25</th>\n",
       "      <td>11.621428</td>\n",
       "      <td>11.714286</td>\n",
       "      <td>11.572857</td>\n",
       "      <td>81.680000</td>\n",
       "      <td>10.538924</td>\n",
       "      <td>121303700</td>\n",
       "    </tr>\n",
       "    <tr>\n",
       "      <th>2006-10-26</th>\n",
       "      <td>11.700000</td>\n",
       "      <td>11.800000</td>\n",
       "      <td>11.590000</td>\n",
       "      <td>82.190002</td>\n",
       "      <td>10.604730</td>\n",
       "      <td>108189200</td>\n",
       "    </tr>\n",
       "    <tr>\n",
       "      <th>2006-10-27</th>\n",
       "      <td>11.678572</td>\n",
       "      <td>11.778571</td>\n",
       "      <td>11.430000</td>\n",
       "      <td>80.409996</td>\n",
       "      <td>10.375060</td>\n",
       "      <td>148741600</td>\n",
       "    </tr>\n",
       "    <tr>\n",
       "      <th>2006-10-30</th>\n",
       "      <td>11.427143</td>\n",
       "      <td>11.557143</td>\n",
       "      <td>11.357142</td>\n",
       "      <td>80.419998</td>\n",
       "      <td>10.376348</td>\n",
       "      <td>124979400</td>\n",
       "    </tr>\n",
       "    <tr>\n",
       "      <th>2006-10-31</th>\n",
       "      <td>11.635715</td>\n",
       "      <td>11.668571</td>\n",
       "      <td>11.461429</td>\n",
       "      <td>81.080002</td>\n",
       "      <td>10.461510</td>\n",
       "      <td>125368600</td>\n",
       "    </tr>\n",
       "    <tr>\n",
       "      <th>2006-11-01</th>\n",
       "      <td>11.585714</td>\n",
       "      <td>11.625714</td>\n",
       "      <td>11.194285</td>\n",
       "      <td>79.160004</td>\n",
       "      <td>10.213779</td>\n",
       "      <td>152798100</td>\n",
       "    </tr>\n",
       "    <tr>\n",
       "      <th>2006-11-02</th>\n",
       "      <td>11.274285</td>\n",
       "      <td>11.331429</td>\n",
       "      <td>11.214286</td>\n",
       "      <td>78.979996</td>\n",
       "      <td>10.190552</td>\n",
       "      <td>116370800</td>\n",
       "    </tr>\n",
       "    <tr>\n",
       "      <th>2006-11-03</th>\n",
       "      <td>11.337143</td>\n",
       "      <td>11.361428</td>\n",
       "      <td>11.112857</td>\n",
       "      <td>78.290001</td>\n",
       "      <td>10.101525</td>\n",
       "      <td>107972200</td>\n",
       "    </tr>\n",
       "    <tr>\n",
       "      <th>2006-11-06</th>\n",
       "      <td>11.278571</td>\n",
       "      <td>11.437143</td>\n",
       "      <td>11.204286</td>\n",
       "      <td>79.709999</td>\n",
       "      <td>10.284742</td>\n",
       "      <td>108644200</td>\n",
       "    </tr>\n",
       "    <tr>\n",
       "      <th>2006-11-07</th>\n",
       "      <td>11.492857</td>\n",
       "      <td>11.571428</td>\n",
       "      <td>11.447143</td>\n",
       "      <td>80.510002</td>\n",
       "      <td>10.387963</td>\n",
       "      <td>131483100</td>\n",
       "    </tr>\n",
       "    <tr>\n",
       "      <th>2006-11-08</th>\n",
       "      <td>11.431429</td>\n",
       "      <td>11.812857</td>\n",
       "      <td>11.412857</td>\n",
       "      <td>82.449997</td>\n",
       "      <td>10.638274</td>\n",
       "      <td>172729200</td>\n",
       "    </tr>\n",
       "    <tr>\n",
       "      <th>2006-11-09</th>\n",
       "      <td>11.842857</td>\n",
       "      <td>12.098572</td>\n",
       "      <td>11.731428</td>\n",
       "      <td>83.339996</td>\n",
       "      <td>10.753109</td>\n",
       "      <td>230763400</td>\n",
       "    </tr>\n",
       "    <tr>\n",
       "      <th>2006-11-10</th>\n",
       "      <td>11.935715</td>\n",
       "      <td>11.942857</td>\n",
       "      <td>11.785714</td>\n",
       "      <td>83.120003</td>\n",
       "      <td>10.724723</td>\n",
       "      <td>93466100</td>\n",
       "    </tr>\n",
       "    <tr>\n",
       "      <th>2006-11-13</th>\n",
       "      <td>11.888572</td>\n",
       "      <td>12.064285</td>\n",
       "      <td>11.805715</td>\n",
       "      <td>84.349998</td>\n",
       "      <td>10.883426</td>\n",
       "      <td>112668500</td>\n",
       "    </tr>\n",
       "    <tr>\n",
       "      <th>2006-11-14</th>\n",
       "      <td>12.114285</td>\n",
       "      <td>12.142858</td>\n",
       "      <td>11.985714</td>\n",
       "      <td>85.000000</td>\n",
       "      <td>10.967294</td>\n",
       "      <td>147238700</td>\n",
       "    </tr>\n",
       "    <tr>\n",
       "      <th>2006-11-15</th>\n",
       "      <td>12.150000</td>\n",
       "      <td>12.271428</td>\n",
       "      <td>12.000000</td>\n",
       "      <td>84.050003</td>\n",
       "      <td>10.844717</td>\n",
       "      <td>163830800</td>\n",
       "    </tr>\n",
       "    <tr>\n",
       "      <th>2006-11-16</th>\n",
       "      <td>12.124286</td>\n",
       "      <td>12.328571</td>\n",
       "      <td>12.088572</td>\n",
       "      <td>85.610001</td>\n",
       "      <td>11.046003</td>\n",
       "      <td>173485200</td>\n",
       "    </tr>\n",
       "    <tr>\n",
       "      <th>2006-11-17</th>\n",
       "      <td>12.162857</td>\n",
       "      <td>12.277143</td>\n",
       "      <td>12.142858</td>\n",
       "      <td>85.850006</td>\n",
       "      <td>11.076968</td>\n",
       "      <td>116606000</td>\n",
       "    </tr>\n",
       "    <tr>\n",
       "      <th>2006-11-20</th>\n",
       "      <td>12.200000</td>\n",
       "      <td>12.428572</td>\n",
       "      <td>12.171429</td>\n",
       "      <td>86.470001</td>\n",
       "      <td>11.156964</td>\n",
       "      <td>142698500</td>\n",
       "    </tr>\n",
       "    <tr>\n",
       "      <th>2006-11-21</th>\n",
       "      <td>12.488571</td>\n",
       "      <td>12.657143</td>\n",
       "      <td>12.444285</td>\n",
       "      <td>88.599998</td>\n",
       "      <td>11.431793</td>\n",
       "      <td>155666700</td>\n",
       "    </tr>\n",
       "    <tr>\n",
       "      <th>2006-11-22</th>\n",
       "      <td>12.712857</td>\n",
       "      <td>12.964286</td>\n",
       "      <td>12.550000</td>\n",
       "      <td>90.309998</td>\n",
       "      <td>11.652428</td>\n",
       "      <td>167985300</td>\n",
       "    </tr>\n",
       "    <tr>\n",
       "      <th>2006-11-24</th>\n",
       "      <td>12.790000</td>\n",
       "      <td>13.297143</td>\n",
       "      <td>12.785714</td>\n",
       "      <td>91.630005</td>\n",
       "      <td>11.822743</td>\n",
       "      <td>129669400</td>\n",
       "    </tr>\n",
       "    <tr>\n",
       "      <th>2006-11-27</th>\n",
       "      <td>13.215714</td>\n",
       "      <td>13.308572</td>\n",
       "      <td>12.785714</td>\n",
       "      <td>89.540001</td>\n",
       "      <td>11.553076</td>\n",
       "      <td>268709000</td>\n",
       "    </tr>\n",
       "    <tr>\n",
       "      <th>2006-11-28</th>\n",
       "      <td>12.908571</td>\n",
       "      <td>13.138572</td>\n",
       "      <td>12.844286</td>\n",
       "      <td>91.809998</td>\n",
       "      <td>11.845969</td>\n",
       "      <td>259043400</td>\n",
       "    </tr>\n",
       "    <tr>\n",
       "      <th>2006-11-29</th>\n",
       "      <td>13.285714</td>\n",
       "      <td>13.307143</td>\n",
       "      <td>12.892858</td>\n",
       "      <td>91.799995</td>\n",
       "      <td>11.844679</td>\n",
       "      <td>289270800</td>\n",
       "    </tr>\n",
       "    <tr>\n",
       "      <th>2006-11-30</th>\n",
       "      <td>13.172857</td>\n",
       "      <td>13.240000</td>\n",
       "      <td>13.008572</td>\n",
       "      <td>91.660004</td>\n",
       "      <td>11.826615</td>\n",
       "      <td>217621600</td>\n",
       "    </tr>\n",
       "    <tr>\n",
       "      <th>2006-12-01</th>\n",
       "      <td>13.114285</td>\n",
       "      <td>13.190000</td>\n",
       "      <td>12.871428</td>\n",
       "      <td>91.320000</td>\n",
       "      <td>11.782746</td>\n",
       "      <td>198769900</td>\n",
       "    </tr>\n",
       "    <tr>\n",
       "      <th>2006-12-04</th>\n",
       "      <td>13.125714</td>\n",
       "      <td>13.150000</td>\n",
       "      <td>12.928572</td>\n",
       "      <td>91.120003</td>\n",
       "      <td>11.756942</td>\n",
       "      <td>177384200</td>\n",
       "    </tr>\n",
       "    <tr>\n",
       "      <th>...</th>\n",
       "      <td>...</td>\n",
       "      <td>...</td>\n",
       "      <td>...</td>\n",
       "      <td>...</td>\n",
       "      <td>...</td>\n",
       "      <td>...</td>\n",
       "    </tr>\n",
       "    <tr>\n",
       "      <th>2013-10-16</th>\n",
       "      <td>71.541428</td>\n",
       "      <td>71.790001</td>\n",
       "      <td>71.318573</td>\n",
       "      <td>501.109985</td>\n",
       "      <td>66.481415</td>\n",
       "      <td>62775300</td>\n",
       "    </tr>\n",
       "    <tr>\n",
       "      <th>2013-10-17</th>\n",
       "      <td>71.425713</td>\n",
       "      <td>72.111427</td>\n",
       "      <td>71.382858</td>\n",
       "      <td>504.500000</td>\n",
       "      <td>66.931152</td>\n",
       "      <td>63398300</td>\n",
       "    </tr>\n",
       "    <tr>\n",
       "      <th>2013-10-18</th>\n",
       "      <td>72.284286</td>\n",
       "      <td>72.751427</td>\n",
       "      <td>72.244286</td>\n",
       "      <td>508.889984</td>\n",
       "      <td>67.513580</td>\n",
       "      <td>72635500</td>\n",
       "    </tr>\n",
       "    <tr>\n",
       "      <th>2013-10-21</th>\n",
       "      <td>73.110001</td>\n",
       "      <td>74.900002</td>\n",
       "      <td>73.074287</td>\n",
       "      <td>521.360046</td>\n",
       "      <td>69.167938</td>\n",
       "      <td>99526700</td>\n",
       "    </tr>\n",
       "    <tr>\n",
       "      <th>2013-10-22</th>\n",
       "      <td>75.201431</td>\n",
       "      <td>75.492859</td>\n",
       "      <td>72.575714</td>\n",
       "      <td>519.869995</td>\n",
       "      <td>68.970276</td>\n",
       "      <td>133515900</td>\n",
       "    </tr>\n",
       "    <tr>\n",
       "      <th>2013-10-23</th>\n",
       "      <td>74.142860</td>\n",
       "      <td>75.095711</td>\n",
       "      <td>74.142860</td>\n",
       "      <td>524.960022</td>\n",
       "      <td>69.645561</td>\n",
       "      <td>78430800</td>\n",
       "    </tr>\n",
       "    <tr>\n",
       "      <th>2013-10-24</th>\n",
       "      <td>75.000000</td>\n",
       "      <td>76.067146</td>\n",
       "      <td>74.635712</td>\n",
       "      <td>531.910034</td>\n",
       "      <td>70.567619</td>\n",
       "      <td>96191200</td>\n",
       "    </tr>\n",
       "    <tr>\n",
       "      <th>2013-10-25</th>\n",
       "      <td>75.902855</td>\n",
       "      <td>76.175713</td>\n",
       "      <td>75.015717</td>\n",
       "      <td>525.960022</td>\n",
       "      <td>69.778229</td>\n",
       "      <td>84448000</td>\n",
       "    </tr>\n",
       "    <tr>\n",
       "      <th>2013-10-28</th>\n",
       "      <td>75.577141</td>\n",
       "      <td>75.857140</td>\n",
       "      <td>74.744286</td>\n",
       "      <td>529.880005</td>\n",
       "      <td>70.298279</td>\n",
       "      <td>137610200</td>\n",
       "    </tr>\n",
       "    <tr>\n",
       "      <th>2013-10-29</th>\n",
       "      <td>76.610001</td>\n",
       "      <td>77.035713</td>\n",
       "      <td>73.505714</td>\n",
       "      <td>516.680054</td>\n",
       "      <td>68.547066</td>\n",
       "      <td>158951800</td>\n",
       "    </tr>\n",
       "    <tr>\n",
       "      <th>2013-10-30</th>\n",
       "      <td>74.230003</td>\n",
       "      <td>75.360001</td>\n",
       "      <td>73.860001</td>\n",
       "      <td>524.900024</td>\n",
       "      <td>69.637596</td>\n",
       "      <td>88540900</td>\n",
       "    </tr>\n",
       "    <tr>\n",
       "      <th>2013-10-31</th>\n",
       "      <td>75.000000</td>\n",
       "      <td>75.355713</td>\n",
       "      <td>74.467140</td>\n",
       "      <td>522.699951</td>\n",
       "      <td>69.345726</td>\n",
       "      <td>68924100</td>\n",
       "    </tr>\n",
       "    <tr>\n",
       "      <th>2013-11-01</th>\n",
       "      <td>74.860001</td>\n",
       "      <td>74.971428</td>\n",
       "      <td>73.691429</td>\n",
       "      <td>520.030029</td>\n",
       "      <td>68.991508</td>\n",
       "      <td>68722500</td>\n",
       "    </tr>\n",
       "    <tr>\n",
       "      <th>2013-11-04</th>\n",
       "      <td>74.442856</td>\n",
       "      <td>75.260002</td>\n",
       "      <td>74.115715</td>\n",
       "      <td>526.750000</td>\n",
       "      <td>69.883018</td>\n",
       "      <td>61156900</td>\n",
       "    </tr>\n",
       "    <tr>\n",
       "      <th>2013-11-05</th>\n",
       "      <td>74.940002</td>\n",
       "      <td>75.555717</td>\n",
       "      <td>74.714287</td>\n",
       "      <td>525.450012</td>\n",
       "      <td>69.710571</td>\n",
       "      <td>66303300</td>\n",
       "    </tr>\n",
       "    <tr>\n",
       "      <th>2013-11-06</th>\n",
       "      <td>74.878571</td>\n",
       "      <td>74.980003</td>\n",
       "      <td>74.028572</td>\n",
       "      <td>520.920044</td>\n",
       "      <td>69.513077</td>\n",
       "      <td>55843900</td>\n",
       "    </tr>\n",
       "    <tr>\n",
       "      <th>2013-11-07</th>\n",
       "      <td>74.225716</td>\n",
       "      <td>74.741432</td>\n",
       "      <td>73.197144</td>\n",
       "      <td>512.489990</td>\n",
       "      <td>68.388130</td>\n",
       "      <td>65655100</td>\n",
       "    </tr>\n",
       "    <tr>\n",
       "      <th>2013-11-08</th>\n",
       "      <td>73.511429</td>\n",
       "      <td>74.447144</td>\n",
       "      <td>73.227142</td>\n",
       "      <td>520.559998</td>\n",
       "      <td>69.465034</td>\n",
       "      <td>69829200</td>\n",
       "    </tr>\n",
       "    <tr>\n",
       "      <th>2013-11-11</th>\n",
       "      <td>74.284286</td>\n",
       "      <td>74.524284</td>\n",
       "      <td>73.487144</td>\n",
       "      <td>519.049988</td>\n",
       "      <td>69.263535</td>\n",
       "      <td>56863100</td>\n",
       "    </tr>\n",
       "    <tr>\n",
       "      <th>2013-11-12</th>\n",
       "      <td>73.952858</td>\n",
       "      <td>74.845711</td>\n",
       "      <td>73.857140</td>\n",
       "      <td>520.010010</td>\n",
       "      <td>69.391632</td>\n",
       "      <td>51069200</td>\n",
       "    </tr>\n",
       "    <tr>\n",
       "      <th>2013-11-13</th>\n",
       "      <td>74.000000</td>\n",
       "      <td>74.607140</td>\n",
       "      <td>73.851425</td>\n",
       "      <td>520.630005</td>\n",
       "      <td>69.474358</td>\n",
       "      <td>49305200</td>\n",
       "    </tr>\n",
       "    <tr>\n",
       "      <th>2013-11-14</th>\n",
       "      <td>74.687141</td>\n",
       "      <td>75.611427</td>\n",
       "      <td>74.552856</td>\n",
       "      <td>528.160034</td>\n",
       "      <td>70.479202</td>\n",
       "      <td>70604800</td>\n",
       "    </tr>\n",
       "    <tr>\n",
       "      <th>2013-11-15</th>\n",
       "      <td>75.225716</td>\n",
       "      <td>75.584282</td>\n",
       "      <td>74.927139</td>\n",
       "      <td>524.989990</td>\n",
       "      <td>70.056198</td>\n",
       "      <td>79480100</td>\n",
       "    </tr>\n",
       "    <tr>\n",
       "      <th>2013-11-18</th>\n",
       "      <td>74.998573</td>\n",
       "      <td>75.312859</td>\n",
       "      <td>74.028572</td>\n",
       "      <td>518.630005</td>\n",
       "      <td>69.207481</td>\n",
       "      <td>61236000</td>\n",
       "    </tr>\n",
       "    <tr>\n",
       "      <th>2013-11-19</th>\n",
       "      <td>74.147141</td>\n",
       "      <td>74.768570</td>\n",
       "      <td>73.995712</td>\n",
       "      <td>519.549988</td>\n",
       "      <td>69.330238</td>\n",
       "      <td>52234700</td>\n",
       "    </tr>\n",
       "    <tr>\n",
       "      <th>2013-11-20</th>\n",
       "      <td>74.175713</td>\n",
       "      <td>74.345711</td>\n",
       "      <td>73.475716</td>\n",
       "      <td>515.000000</td>\n",
       "      <td>68.723076</td>\n",
       "      <td>48479200</td>\n",
       "    </tr>\n",
       "    <tr>\n",
       "      <th>2013-11-21</th>\n",
       "      <td>73.942856</td>\n",
       "      <td>74.458572</td>\n",
       "      <td>73.381432</td>\n",
       "      <td>521.140015</td>\n",
       "      <td>69.542412</td>\n",
       "      <td>65506700</td>\n",
       "    </tr>\n",
       "    <tr>\n",
       "      <th>2013-11-22</th>\n",
       "      <td>74.217140</td>\n",
       "      <td>74.594284</td>\n",
       "      <td>74.075714</td>\n",
       "      <td>519.799988</td>\n",
       "      <td>69.363609</td>\n",
       "      <td>55931400</td>\n",
       "    </tr>\n",
       "    <tr>\n",
       "      <th>2013-11-25</th>\n",
       "      <td>74.431427</td>\n",
       "      <td>75.124283</td>\n",
       "      <td>74.428574</td>\n",
       "      <td>523.739990</td>\n",
       "      <td>69.889374</td>\n",
       "      <td>57327900</td>\n",
       "    </tr>\n",
       "    <tr>\n",
       "      <th>2013-11-26</th>\n",
       "      <td>74.874283</td>\n",
       "      <td>76.591431</td>\n",
       "      <td>74.857140</td>\n",
       "      <td>533.399963</td>\n",
       "      <td>71.178429</td>\n",
       "      <td>100345700</td>\n",
       "    </tr>\n",
       "  </tbody>\n",
       "</table>\n",
       "<p>1787 rows × 6 columns</p>\n",
       "</div>"
      ],
      "text/plain": [
       "                 Open       High        Low       Close  Adj Close     Volume\n",
       "Date                                                                         \n",
       "2006-10-23  11.427143  11.700000  11.392858   81.459999  10.510538  208126800\n",
       "2006-10-24  11.601429  11.668571  11.457143   81.050003  10.457637  115803100\n",
       "2006-10-25  11.621428  11.714286  11.572857   81.680000  10.538924  121303700\n",
       "2006-10-26  11.700000  11.800000  11.590000   82.190002  10.604730  108189200\n",
       "2006-10-27  11.678572  11.778571  11.430000   80.409996  10.375060  148741600\n",
       "2006-10-30  11.427143  11.557143  11.357142   80.419998  10.376348  124979400\n",
       "2006-10-31  11.635715  11.668571  11.461429   81.080002  10.461510  125368600\n",
       "2006-11-01  11.585714  11.625714  11.194285   79.160004  10.213779  152798100\n",
       "2006-11-02  11.274285  11.331429  11.214286   78.979996  10.190552  116370800\n",
       "2006-11-03  11.337143  11.361428  11.112857   78.290001  10.101525  107972200\n",
       "2006-11-06  11.278571  11.437143  11.204286   79.709999  10.284742  108644200\n",
       "2006-11-07  11.492857  11.571428  11.447143   80.510002  10.387963  131483100\n",
       "2006-11-08  11.431429  11.812857  11.412857   82.449997  10.638274  172729200\n",
       "2006-11-09  11.842857  12.098572  11.731428   83.339996  10.753109  230763400\n",
       "2006-11-10  11.935715  11.942857  11.785714   83.120003  10.724723   93466100\n",
       "2006-11-13  11.888572  12.064285  11.805715   84.349998  10.883426  112668500\n",
       "2006-11-14  12.114285  12.142858  11.985714   85.000000  10.967294  147238700\n",
       "2006-11-15  12.150000  12.271428  12.000000   84.050003  10.844717  163830800\n",
       "2006-11-16  12.124286  12.328571  12.088572   85.610001  11.046003  173485200\n",
       "2006-11-17  12.162857  12.277143  12.142858   85.850006  11.076968  116606000\n",
       "2006-11-20  12.200000  12.428572  12.171429   86.470001  11.156964  142698500\n",
       "2006-11-21  12.488571  12.657143  12.444285   88.599998  11.431793  155666700\n",
       "2006-11-22  12.712857  12.964286  12.550000   90.309998  11.652428  167985300\n",
       "2006-11-24  12.790000  13.297143  12.785714   91.630005  11.822743  129669400\n",
       "2006-11-27  13.215714  13.308572  12.785714   89.540001  11.553076  268709000\n",
       "2006-11-28  12.908571  13.138572  12.844286   91.809998  11.845969  259043400\n",
       "2006-11-29  13.285714  13.307143  12.892858   91.799995  11.844679  289270800\n",
       "2006-11-30  13.172857  13.240000  13.008572   91.660004  11.826615  217621600\n",
       "2006-12-01  13.114285  13.190000  12.871428   91.320000  11.782746  198769900\n",
       "2006-12-04  13.125714  13.150000  12.928572   91.120003  11.756942  177384200\n",
       "...               ...        ...        ...         ...        ...        ...\n",
       "2013-10-16  71.541428  71.790001  71.318573  501.109985  66.481415   62775300\n",
       "2013-10-17  71.425713  72.111427  71.382858  504.500000  66.931152   63398300\n",
       "2013-10-18  72.284286  72.751427  72.244286  508.889984  67.513580   72635500\n",
       "2013-10-21  73.110001  74.900002  73.074287  521.360046  69.167938   99526700\n",
       "2013-10-22  75.201431  75.492859  72.575714  519.869995  68.970276  133515900\n",
       "2013-10-23  74.142860  75.095711  74.142860  524.960022  69.645561   78430800\n",
       "2013-10-24  75.000000  76.067146  74.635712  531.910034  70.567619   96191200\n",
       "2013-10-25  75.902855  76.175713  75.015717  525.960022  69.778229   84448000\n",
       "2013-10-28  75.577141  75.857140  74.744286  529.880005  70.298279  137610200\n",
       "2013-10-29  76.610001  77.035713  73.505714  516.680054  68.547066  158951800\n",
       "2013-10-30  74.230003  75.360001  73.860001  524.900024  69.637596   88540900\n",
       "2013-10-31  75.000000  75.355713  74.467140  522.699951  69.345726   68924100\n",
       "2013-11-01  74.860001  74.971428  73.691429  520.030029  68.991508   68722500\n",
       "2013-11-04  74.442856  75.260002  74.115715  526.750000  69.883018   61156900\n",
       "2013-11-05  74.940002  75.555717  74.714287  525.450012  69.710571   66303300\n",
       "2013-11-06  74.878571  74.980003  74.028572  520.920044  69.513077   55843900\n",
       "2013-11-07  74.225716  74.741432  73.197144  512.489990  68.388130   65655100\n",
       "2013-11-08  73.511429  74.447144  73.227142  520.559998  69.465034   69829200\n",
       "2013-11-11  74.284286  74.524284  73.487144  519.049988  69.263535   56863100\n",
       "2013-11-12  73.952858  74.845711  73.857140  520.010010  69.391632   51069200\n",
       "2013-11-13  74.000000  74.607140  73.851425  520.630005  69.474358   49305200\n",
       "2013-11-14  74.687141  75.611427  74.552856  528.160034  70.479202   70604800\n",
       "2013-11-15  75.225716  75.584282  74.927139  524.989990  70.056198   79480100\n",
       "2013-11-18  74.998573  75.312859  74.028572  518.630005  69.207481   61236000\n",
       "2013-11-19  74.147141  74.768570  73.995712  519.549988  69.330238   52234700\n",
       "2013-11-20  74.175713  74.345711  73.475716  515.000000  68.723076   48479200\n",
       "2013-11-21  73.942856  74.458572  73.381432  521.140015  69.542412   65506700\n",
       "2013-11-22  74.217140  74.594284  74.075714  519.799988  69.363609   55931400\n",
       "2013-11-25  74.431427  75.124283  74.428574  523.739990  69.889374   57327900\n",
       "2013-11-26  74.874283  76.591431  74.857140  533.399963  71.178429  100345700\n",
       "\n",
       "[1787 rows x 6 columns]"
      ]
     },
     "execution_count": 8,
     "metadata": {},
     "output_type": "execute_result"
    }
   ],
   "source": [
    "collect_data('AAPL')"
   ]
  },
  {
   "cell_type": "markdown",
   "metadata": {
    "slideshow": {
     "slide_type": "slide"
    }
   },
   "source": [
    "# PowerShares Dyn Leisure & Entert. (ETF)#\n",
    "\n",
    "* Comprised of 30 common stocks of United States Entertainment and Leisure Companies\n",
    "* Companies in design and production of goods and services in these industries\n",
    "* Rebalanced on a quarterly basis"
   ]
  },
  {
   "cell_type": "code",
   "execution_count": 9,
   "metadata": {
    "collapsed": false,
    "slideshow": {
     "slide_type": "slide"
    }
   },
   "outputs": [
    {
     "name": "stdout",
     "output_type": "stream",
     "text": [
      "[*********************100%***********************]  1 of 1 downloadedPopulating the interactive namespace from numpy and matplotlib\n"
     ]
    },
    {
     "data": {
      "image/png": "[encoded data removed]",
      "text/plain": [
       "<matplotlib.figure.Figure at 0x7f5ac29ca6d8>"
      ]
     },
     "metadata": {},
     "output_type": "display_data"
    },
    {
     "data": {
      "image/png": "[encoded data removed]",
      "text/plain": [
       "<matplotlib.figure.Figure at 0x7f5ac2a98908>"
      ]
     },
     "metadata": {},
     "output_type": "display_data"
    }
   ],
   "source": [
    "pej_table = collect_data('PEJ')"
   ]
  },
  {
   "cell_type": "markdown",
   "metadata": {
    "slideshow": {
     "slide_type": "slide"
    }
   },
   "source": [
    "## Get the price changes and dates over the span of the period of the data set ##"
   ]
  },
  {
   "cell_type": "code",
   "execution_count": 10,
   "metadata": {
    "collapsed": true,
    "slideshow": {
     "slide_type": "slide"
    }
   },
   "outputs": [],
   "source": [
    "def get_open(table):\n",
    "    return table['Open']\n",
    "def get_close(table):\n",
    "    return table['Adj_Close']\n",
    "def get_date(table):\n",
    "    return table.index.values"
   ]
  },
  {
   "cell_type": "code",
   "execution_count": 15,
   "metadata": {
    "collapsed": true,
    "slideshow": {
     "slide_type": "slide"
    }
   },
   "outputs": [],
   "source": [
    "opn = np.append(np.asarray(get_open(pej_table).tolist()), 0)\n",
    "close = np.insert(np.asarray(get_open(pej_table).tolist()), 0, 0)\n",
    "dates = np.asarray(get_date(pej_table).tolist())"
   ]
  },
  {
   "cell_type": "code",
   "execution_count": 16,
   "metadata": {
    "collapsed": true,
    "slideshow": {
     "slide_type": "slide"
    }
   },
   "outputs": [],
   "source": [
    "new_dates = []\n",
    "for date in dates:\n",
    "    new_date = datetime.datetime.fromtimestamp(date/10**9).strftime('%Y%m%d')\n",
    "    new_dates.append(new_date)\n"
   ]
  },
  {
   "cell_type": "code",
   "execution_count": 20,
   "metadata": {
    "collapsed": true,
    "slideshow": {
     "slide_type": "slide"
    }
   },
   "outputs": [],
   "source": [
    "daily_change = numpy.delete(close - opn,0)"
   ]
  },
  {
   "cell_type": "code",
   "execution_count": 21,
   "metadata": {
    "collapsed": false,
    "slideshow": {
     "slide_type": "slide"
    }
   },
   "outputs": [
    {
     "data": {
      "text/plain": [
       "array([ -0.120001,  -0.25    ,   0.040001, ...,  -0.11    ,   0.43    ,\n",
       "        33.      ])"
      ]
     },
     "execution_count": 21,
     "metadata": {},
     "output_type": "execute_result"
    }
   ],
   "source": [
    "daily_change"
   ]
  },
  {
   "cell_type": "markdown",
   "metadata": {
    "slideshow": {
     "slide_type": "slide"
    }
   },
   "source": [
    "## Data Retrieval and Combination ##"
   ]
  },
  {
   "cell_type": "code",
   "execution_count": 22,
   "metadata": {
    "collapsed": true,
    "slideshow": {
     "slide_type": "slide"
    }
   },
   "outputs": [],
   "source": [
    "def get_data_reuters():\n",
    "    files = defaultdict(list)\n",
    "    for dirpath, dirnames, filenames in os.walk(\"/home/ewelt/financial-news-dataset/ReutersNews106521\"):\n",
    "        for dirname in [d for d in dirnames]:\n",
    "            directory = os.path.join(dirpath, dirname)\n",
    "            for dirpath2, dirnames2, filenames2 in os.walk(directory):\n",
    "                for filename in [f for f in filenames2]:\n",
    "                    file = os.path.join(dirpath2, filename)\n",
    "                    files[dirname].append(file)\n",
    "    return files"
   ]
  },
  {
   "cell_type": "code",
   "execution_count": 23,
   "metadata": {
    "collapsed": true,
    "slideshow": {
     "slide_type": "slide"
    }
   },
   "outputs": [],
   "source": [
    "def get_data_bloomberg():\n",
    "    files = defaultdict(list)\n",
    "    for dirpath, dirnames, filenames in os.walk(\"/home/ewelt/financial-news-dataset/20061020_20131126_bloomberg_news\"):\n",
    "        for dirname in [d for d in dirnames]:\n",
    "            directory = os.path.join(dirpath, dirname)\n",
    "            for dirpath2, dirnames2, filenames2 in os.walk(directory):\n",
    "                for filename in [f for f in filenames2]:\n",
    "                    file = os.path.join(dirpath2, filename)\n",
    "                    files[dirname.replace('-', '')].append(file)\n",
    "    return files"
   ]
  },
  {
   "cell_type": "code",
   "execution_count": 24,
   "metadata": {
    "collapsed": true,
    "slideshow": {
     "slide_type": "slide"
    }
   },
   "outputs": [],
   "source": [
    "reuters = get_data_reuters()"
   ]
  },
  {
   "cell_type": "code",
   "execution_count": 25,
   "metadata": {
    "collapsed": true,
    "slideshow": {
     "slide_type": "slide"
    }
   },
   "outputs": [],
   "source": [
    "bloomberg = get_data_bloomberg()"
   ]
  },
  {
   "cell_type": "code",
   "execution_count": 26,
   "metadata": {
    "collapsed": true,
    "slideshow": {
     "slide_type": "slide"
    }
   },
   "outputs": [],
   "source": [
    "def combine(d1, d2):\n",
    "    for key,value in d1.items():\n",
    "        d2[key].extend(value)\n",
    "    return d2"
   ]
  },
  {
   "cell_type": "code",
   "execution_count": 27,
   "metadata": {
    "collapsed": true,
    "slideshow": {
     "slide_type": "slide"
    }
   },
   "outputs": [],
   "source": [
    "links_comb = combine(reuters, bloomberg)"
   ]
  },
  {
   "cell_type": "code",
   "execution_count": 28,
   "metadata": {
    "collapsed": true,
    "slideshow": {
     "slide_type": "slide"
    }
   },
   "outputs": [],
   "source": [
    "price_change_dict = {}\n",
    "for i in range(1761):\n",
    "    price_change_dict[new_dates[i]] = daily_change[i]\n"
   ]
  },
  {
   "cell_type": "code",
   "execution_count": 29,
   "metadata": {
    "collapsed": true,
    "slideshow": {
     "slide_type": "slide"
    }
   },
   "outputs": [],
   "source": [
    "dates_list = list(price_change_dict.keys())"
   ]
  },
  {
   "cell_type": "code",
   "execution_count": 30,
   "metadata": {
    "collapsed": false,
    "slideshow": {
     "slide_type": "slide"
    }
   },
   "outputs": [
    {
     "name": "stdout",
     "output_type": "stream",
     "text": [
      "\n",
      "\u001b[93m    Warning: no model found for 'en'\u001b[0m\n",
      "\n",
      "    Only loading the 'en' tokenizer.\n",
      "\n"
     ]
    }
   ],
   "source": [
    "nlp = spacy.load('en')"
   ]
  },
  {
   "cell_type": "code",
   "execution_count": 31,
   "metadata": {
    "collapsed": true,
    "slideshow": {
     "slide_type": "slide"
    }
   },
   "outputs": [],
   "source": [
    "for date in dates_list:\n",
    "    if (datetime.datetime.strptime(date, '%Y%m%d') - datetime.timedelta(days=1)).strftime('%Y%m%d') not in list(set(list(reuters.keys()) + list(links_comb.keys()))):\n",
    "        dates_list.remove(date)\n",
    "        price_change_dict.pop(date)\n",
    "        \n"
   ]
  },
  {
   "cell_type": "code",
   "execution_count": 32,
   "metadata": {
    "collapsed": true,
    "slideshow": {
     "slide_type": "slide"
    }
   },
   "outputs": [],
   "source": [
    "new_links = defaultdict(list)\n",
    "for key in list(set(list(reuters.keys()) + list(links_comb.keys()))):\n",
    "    if (datetime.datetime.strptime(key, '%Y%m%d') + datetime.timedelta(days=1)).strftime('%Y%m%d') in dates_list:\n",
    "        new_links[key] = links_comb[key]\n"
   ]
  },
  {
   "cell_type": "code",
   "execution_count": 33,
   "metadata": {
    "collapsed": true,
    "slideshow": {
     "slide_type": "slide"
    }
   },
   "outputs": [],
   "source": [
    "train_x = [new_links[key] for key in list(sort(list(new_links.keys())))]"
   ]
  },
  {
   "cell_type": "code",
   "execution_count": 34,
   "metadata": {
    "collapsed": true,
    "slideshow": {
     "slide_type": "slide"
    }
   },
   "outputs": [],
   "source": [
    "train_y = list(price_change_dict.values())"
   ]
  },
  {
   "cell_type": "code",
   "execution_count": 35,
   "metadata": {
    "collapsed": true,
    "slideshow": {
     "slide_type": "slide"
    }
   },
   "outputs": [],
   "source": [
    "def process_articles(l):\n",
    "    new_list = []\n",
    "    for minilist in l:\n",
    "        lst = []\n",
    "        for link in minilist:\n",
    "            with open(link, 'rb') as f:\n",
    "                text = nlp(str(f.read()))\n",
    "            lst.append(text)\n",
    "        new_list.append(lst)\n",
    "    return new_list\n",
    "    "
   ]
  },
  {
   "cell_type": "code",
   "execution_count": 36,
   "metadata": {
    "collapsed": true,
    "slideshow": {
     "slide_type": "slide"
    }
   },
   "outputs": [],
   "source": [
    "processed_train = process_articles(train_x[:600])"
   ]
  },
  {
   "cell_type": "code",
   "execution_count": 37,
   "metadata": {
    "collapsed": true,
    "slideshow": {
     "slide_type": "slide"
    }
   },
   "outputs": [],
   "source": [
    "processed_test = process_articles(train_x[600:900])"
   ]
  },
  {
   "cell_type": "code",
   "execution_count": 38,
   "metadata": {
    "collapsed": true,
    "slideshow": {
     "slide_type": "slide"
    }
   },
   "outputs": [],
   "source": [
    "#processed_test_future = processed_train = process_articles(train_x[1600:])"
   ]
  },
  {
   "cell_type": "code",
   "execution_count": 39,
   "metadata": {
    "collapsed": true,
    "slideshow": {
     "slide_type": "slide"
    }
   },
   "outputs": [],
   "source": [
    "# Convert text to integer symbols\n",
    "symbol_table = util.SymbolTable()\n",
    "\n",
    "def preprocess_text(parsed_text, symbol_table, init=True):\n",
    "    mapper = symbol_table.lookup_add if init else symbol_table.lookup\n",
    "    return [[mapper(w.text.strip().lower()) for s in t for w in s] for t in parsed_text]"
   ]
  },
  {
   "cell_type": "code",
   "execution_count": 40,
   "metadata": {
    "collapsed": true,
    "slideshow": {
     "slide_type": "slide"
    }
   },
   "outputs": [],
   "source": [
    "symbols = preprocess_text(processed_train, symbol_table, True)\n",
    "symbols_test = preprocess_text(processed_test, symbol_table, False)    \n"
   ]
  },
  {
   "cell_type": "code",
   "execution_count": null,
   "metadata": {
    "collapsed": true,
    "slideshow": {
     "slide_type": "slide"
    }
   },
   "outputs": [],
   "source": [
    "MAX_LENGTH = 300\n",
    "x_train = sequence.pad_sequences(symbols, maxlen=MAX_LENGTH)\n",
    "x_test = sequence.pad_sequences(symbols_test, maxlen=MAX_LENGTH)"
   ]
  },
  {
   "cell_type": "markdown",
   "metadata": {},
   "source": [
    "# Create Categories #"
   ]
  },
  {
   "cell_type": "code",
   "execution_count": 72,
   "metadata": {
    "collapsed": true,
    "slideshow": {
     "slide_type": "slide"
    }
   },
   "outputs": [],
   "source": [
    "def categorize(value):\n",
    "    if value < -.3:\n",
    "        return 0\n",
    "    elif value < -.05:\n",
    "        return 1\n",
    "    elif value < .05:\n",
    "        return 2\n",
    "    elif value < .3:\n",
    "        return 3\n",
    "    else:\n",
    "        return 4\n",
    "    "
   ]
  },
  {
   "cell_type": "markdown",
   "metadata": {
    "slideshow": {
     "slide_type": "slide"
    }
   },
   "source": [
    "# **Train a Dope Model** #"
   ]
  },
  {
   "cell_type": "code",
   "execution_count": 73,
   "metadata": {
    "collapsed": true,
    "slideshow": {
     "slide_type": "slide"
    }
   },
   "outputs": [],
   "source": [
    "train_categories = [categorize(value) for value in train_y[:600]]\n",
    "processed_test_categories = [categorize(value) for value in train_y[600:900]]\n",
    "processed_test_future_categories = [categorize(value) for value in train_y[1600:]]"
   ]
  },
  {
   "cell_type": "code",
   "execution_count": 74,
   "metadata": {
    "collapsed": true,
    "slideshow": {
     "slide_type": "slide"
    }
   },
   "outputs": [],
   "source": [
    "max_features = len(list(set([i for lst in symbols for i in lst])))+50\n",
    "batch_size = 20"
   ]
  },
  {
   "cell_type": "code",
   "execution_count": 91,
   "metadata": {
    "collapsed": true,
    "slideshow": {
     "slide_type": "slide"
    }
   },
   "outputs": [],
   "source": [
    "model = Sequential()\n",
    "model.add(Embedding(max_features, 64, input_length=MAX_LENGTH))\n",
    "model.add(Bidirectional(LSTM(32)))\n",
    "model.add(Dropout(0.8))\n",
    "\n",
    "model.add(Dense(5, activation='softmax'))\n",
    "\n",
    "# try using different optimizers and different optimizer configs\n",
    "model.compile('adam', 'categorical_crossentropy', metrics=['accuracy'])"
   ]
  },
  {
   "cell_type": "code",
   "execution_count": 92,
   "metadata": {
    "collapsed": false,
    "slideshow": {
     "slide_type": "slide"
    }
   },
   "outputs": [
    {
     "name": "stdout",
     "output_type": "stream",
     "text": [
      "Train...\n",
      "Train on 600 samples, validate on 300 samples\n",
      "Epoch 1/5\n",
      "600/600 [==============================] - 18s - loss: 1.5974 - acc: 0.2467 - val_loss: 1.5752 - val_acc: 0.2633\n",
      "Epoch 2/5\n",
      "600/600 [==============================] - 16s - loss: 1.5658 - acc: 0.3133 - val_loss: 1.5330 - val_acc: 0.2567\n",
      "Epoch 3/5\n",
      "600/600 [==============================] - 16s - loss: 1.5229 - acc: 0.3383 - val_loss: 1.4891 - val_acc: 0.3533\n",
      "Epoch 4/5\n",
      "600/600 [==============================] - 16s - loss: 1.4521 - acc: 0.3550 - val_loss: 1.5193 - val_acc: 0.2600\n",
      "Epoch 5/5\n",
      "600/600 [==============================] - 16s - loss: 1.3297 - acc: 0.4617 - val_loss: 1.5695 - val_acc: 0.2633\n"
     ]
    },
    {
     "data": {
      "text/plain": [
       "<keras.callbacks.History at 0x7f59dcea4d68>"
      ]
     },
     "execution_count": 92,
     "metadata": {},
     "output_type": "execute_result"
    }
   ],
   "source": [
    "print('Train...')\n",
    "model.fit(x_train, to_categorical(train_categories),\n",
    "          batch_size=batch_size,\n",
    "          epochs=5,\n",
    "          validation_data=[x_test, to_categorical(processed_test_categories)])"
   ]
  },
  {
   "cell_type": "code",
   "execution_count": 93,
   "metadata": {
    "collapsed": true,
    "slideshow": {
     "slide_type": "slide"
    }
   },
   "outputs": [],
   "source": [
    "predictions = model.predict(x_test)"
   ]
  },
  {
   "cell_type": "markdown",
   "metadata": {
    "slideshow": {
     "slide_type": "slide"
    }
   },
   "source": [
    "### Probability Predictions for the five categories ### "
   ]
  },
  {
   "cell_type": "code",
   "execution_count": 95,
   "metadata": {
    "collapsed": false,
    "slideshow": {
     "slide_type": "slide"
    }
   },
   "outputs": [
    {
     "data": {
      "text/plain": [
       "array([[ 0.16906859,  0.16807295,  0.21045032,  0.2638194 ,  0.18858874],\n",
       "       [ 0.15634032,  0.19052267,  0.14817163,  0.28193447,  0.22303094],\n",
       "       [ 0.16797596,  0.16272312,  0.19547197,  0.25352284,  0.22030608],\n",
       "       ..., \n",
       "       [ 0.1400114 ,  0.20696539,  0.19610174,  0.29796705,  0.15895435],\n",
       "       [ 0.12129099,  0.18275549,  0.15240672,  0.34810027,  0.19544652],\n",
       "       [ 0.16619219,  0.15640394,  0.17178394,  0.2990045 ,  0.20661537]], dtype=float32)"
      ]
     },
     "execution_count": 95,
     "metadata": {},
     "output_type": "execute_result"
    }
   ],
   "source": [
    "predictions"
   ]
  },
  {
   "cell_type": "code",
   "execution_count": null,
   "metadata": {
    "collapsed": true
   },
   "outputs": [],
   "source": []
  }
 ],
 "metadata": {
  "celltoolbar": "Slideshow",
  "kernelspec": {
   "display_name": "Python 3",
   "language": "python",
   "name": "python3"
  },
  "language_info": {
   "codemirror_mode": {
    "name": "ipython",
    "version": 3
   },
   "file_extension": ".py",
   "mimetype": "text/x-python",
   "name": "python",
   "nbconvert_exporter": "python",
   "pygments_lexer": "ipython3",
   "version": "3.6.0"
  }
 },
 "nbformat": 4,
 "nbformat_minor": 2
}
